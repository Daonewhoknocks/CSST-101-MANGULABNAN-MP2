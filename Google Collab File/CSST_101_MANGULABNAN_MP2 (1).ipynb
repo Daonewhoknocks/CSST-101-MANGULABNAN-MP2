{
  "nbformat": 4,
  "nbformat_minor": 0,
  "metadata": {
    "colab": {
      "provenance": []
    },
    "kernelspec": {
      "name": "python3",
      "display_name": "Python 3"
    },
    "language_info": {
      "name": "python"
    }
  },
  "cells": [
    {
      "cell_type": "code",
      "execution_count": 14,
      "metadata": {
        "id": "3p6enzm5VndE",
        "colab": {
          "base_uri": "https://localhost:8080/"
        },
        "outputId": "27758a9f-a818-4ebc-b024-344de89570f1"
      },
      "outputs": [
        {
          "output_type": "stream",
          "name": "stdout",
          "text": [
            "The action is: Retreat\n"
          ]
        }
      ],
      "source": [
        "# p is the first boolean value and q is the second boolean value\n",
        "\n",
        "#This perform the AND operation\n",
        "\n",
        "def and_operation(p, q):\n",
        "    return p and q\n",
        "\n",
        "# This perform the OR operation\n",
        "\n",
        "def or_operation(p, q):\n",
        "    return p or q\n",
        "\n",
        "\n",
        "# This perform the NOT operation\n",
        "\n",
        "def not_operation(p):\n",
        "    return not p\n",
        "\n",
        "# This perform the IMPLIES operation\n",
        "\n",
        "def implies_operation(p, q):\n",
        "    return not p or q\n",
        "\n",
        "# This test the logical operations with the sample boolean value\n",
        "\n",
        "def test_operation():\n",
        "    p = True\n",
        "    q = False\n",
        "\n",
        "    print(\"AND operation:\", and_operation(p, q))\n",
        "    print(\"AND operation:\", or_operation(p, q))\n",
        "    print(\"AND operation:\", not_operation(p))\n",
        "    print(\"AND operation:\", implies_operation(p, q))\n",
        "\n",
        "# This evaluate the logical statement given a set of boolean values\n",
        "\n",
        "def evaluate(statement, values):\n",
        "    for proposition, truth_value in values.items():\n",
        "        statement = statement.replace(proposition, str(truth_value))\n",
        "    return eval(statement)\n",
        "\n",
        "# Running the test and printing the result\n",
        "\n",
        "test_operation()\n",
        "print(evaluate(\"p and not q\", {\"p\": True, \"q\": False}))"
      ]
    }
  ]
}