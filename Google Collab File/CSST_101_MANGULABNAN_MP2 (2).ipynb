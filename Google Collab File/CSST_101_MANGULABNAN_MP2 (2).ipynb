{
  "nbformat": 4,
  "nbformat_minor": 0,
  "metadata": {
    "colab": {
      "provenance": []
    },
    "kernelspec": {
      "name": "python3",
      "display_name": "Python 3"
    },
    "language_info": {
      "name": "python"
    }
  },
  "cells": [
    {
      "cell_type": "code",
      "execution_count": 14,
      "metadata": {
        "id": "3p6enzm5VndE",
        "colab": {
          "base_uri": "https://localhost:8080/"
        },
        "outputId": "27758a9f-a818-4ebc-b024-344de89570f1"
      },
      "outputs": [
        {
          "output_type": "stream",
          "name": "stdout",
          "text": [
            "The action is: Retreat\n"
          ]
        }
      ],
      "source": [
        "# Evaluate if the predicate holds true for all element in the domain\n",
        "\n",
        "\n",
        "def forall(predicate, domain):\n",
        "  return all(predicate(element) for element in domain)\n",
        "\n",
        "\n",
        "# Evaluate if the predicate holds true for at least one element in the domain\n",
        "\n",
        "\n",
        "def exist(predicate, domain):\n",
        "  return any(predicate(element) for element in domain)\n",
        "\n",
        "# defining the domain of elements\n",
        "\n",
        "domain = [1, 2, 3, 4, 5]\n",
        "\n",
        "def even(x):\n",
        "# Predicate function checking if the number is even\n",
        "  return x % 2 == 0\n",
        "\n",
        "print(forall(even, domain))\n",
        "print(exist(even, domain))"
      ]
    }
  ]
}