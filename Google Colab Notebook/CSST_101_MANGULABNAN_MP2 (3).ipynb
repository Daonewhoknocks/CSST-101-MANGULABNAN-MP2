{
  "nbformat": 4,
  "nbformat_minor": 0,
  "metadata": {
    "colab": {
      "provenance": []
    },
    "kernelspec": {
      "name": "python3",
      "display_name": "Python 3"
    },
    "language_info": {
      "name": "python"
    }
  },
  "cells": [
    {
      "cell_type": "code",
      "execution_count": 14,
      "metadata": {
        "id": "3p6enzm5VndE",
        "colab": {
          "base_uri": "https://localhost:8080/"
        },
        "outputId": "27758a9f-a818-4ebc-b024-344de89570f1"
      },
      "outputs": [
        {
          "output_type": "stream",
          "name": "stdout",
          "text": [
            "The action is: Retreat\n"
          ]
        }
      ],
      "source": [
        "# p is the first boolean value and q is the second boolean value\n",
        "\n",
        "# This perform the AND operation\n",
        "\n",
        "def and_operation(p, q):\n",
        "    return p and q\n",
        "\n",
        "# This perform the OR operation\n",
        "\n",
        "def or_operation(p, q):\n",
        "    return p or q\n",
        "\n",
        "# This perform the NOT operation\n",
        "\n",
        "def not_operation(p):\n",
        "    return not p\n",
        "\n",
        "\n",
        "# This perform the IMPLIES operation\n",
        "\n",
        "def implies_operation(p, q):\n",
        "    return not p or q\n",
        "\n",
        "# This determine the best action based on the current state\n",
        "# Define the condition based on the state\n",
        "def action(state):\n",
        "  lowhealth = state['health'] <= 50\n",
        "  enemy = state['distance'] <= 10\n",
        "  power = state['power']\n",
        "\n",
        "# This is the decision making logic\n",
        "  if and_operation(lowhealth, enemy):\n",
        "    return \"Retreat\"\n",
        "  elif power:\n",
        "    return \"Use power\"\n",
        "  elif or_operation(lowhealth, enemy):\n",
        "    return \"Defend\"\n",
        "  else:\n",
        "    return \"Attack\"\n",
        "\n",
        "# Define sample state\n",
        "state = {'health': 45, 'distance': 5, 'power': True}\n",
        "# Determine and print the action based on the state\n",
        "action = action(state)\n",
        "print(\"The action is:\", action)"
      ]
    }
  ]
}